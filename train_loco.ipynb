{
 "cells": [
  {
   "cell_type": "code",
   "execution_count": null,
   "id": "cbaf6366-2f7e-46bb-84b6-ab3abc732239",
   "metadata": {
    "scrolled": true
   },
   "outputs": [],
   "source": [
    "!python3 tools/train.py --batch 8 --eval-interval 5 --conf configs/yolov6n6_finetune.py --data data/loco.yaml --device 0 --epochs 100 --img-size 1280 --name yolo6n6_1280_palette_b8"
   ]
  },
  {
   "cell_type": "code",
   "execution_count": null,
   "id": "828f7359-9e14-44c2-ba2a-12b743d74fb6",
   "metadata": {
    "scrolled": true
   },
   "outputs": [],
   "source": [
    "!python3 tools/train.py --batch 8 --eval-interval 5 --conf configs/yolov6s6_finetune.py --data data/loco.yaml --device 0 --epochs 100 --img-size 1280 --name yolo6s6_1280_palette_b8"
   ]
  },
  {
   "cell_type": "code",
   "execution_count": null,
   "id": "dd2f2483-23c9-4422-9f5a-abbdf0c1eeed",
   "metadata": {
    "scrolled": true
   },
   "outputs": [],
   "source": [
    "!python3 tools/train.py --batch 8 --eval-interval 5 --conf configs/yolov6m6_finetune.py --data data/loco.yaml --device 0 --epochs 100 --img-size 1280 --name yolo6m6_1280_palette_b8"
   ]
  },
  {
   "cell_type": "code",
   "execution_count": null,
   "id": "5928805f-0de5-49e2-887c-db51677e8d46",
   "metadata": {
    "scrolled": true
   },
   "outputs": [],
   "source": [
    "!python3 tools/train.py --batch 8 --eval-interval 5 --conf configs/yolov6l6_finetune.py --data data/loco.yaml --device 0 --epochs 100 --img-size 1280 --name yolo6l6_1280_palette_b8"
   ]
  },
  {
   "cell_type": "code",
   "execution_count": 1,
   "id": "8c95aba5-8905-4416-8480-cd483ce58a20",
   "metadata": {},
   "outputs": [
    {
     "name": "stdout",
     "output_type": "stream",
     "text": [
      "loading annotations into memory..."
     ]
    },
    {
     "name": "stderr",
     "output_type": "stream",
     "text": [
      "Namespace(data='data/synthpalette.yaml', weights='runs/train/yolo6n6_1280_palette_b32/weights/best_ckpt.pt', batch_size=32, img_size=640, conf_thres=0.03, iou_thres=0.65, task='val', device='0', half=False, save_dir='runs/val/', name='exp', shrink_size=0, infer_on_rect=True, reproduce_640_eval=False, eval_config_file='./configs/experiment/eval_640_repro.py', do_coco_metric=True, do_pr_metric=True, plot_curve=True, plot_confusion_matrix=True, verbose=True, config_file='', specific_shape=False, height=None, width=None)\n",
      "Loading checkpoint from runs/train/yolo6n6_1280_palette_b32/weights/best_ckpt.pt\n",
      "\n",
      "Fusing model...\n",
      "Switch model to deploy modality.\n",
      "Model Summary: Params: 10.34M, Gflops: 12.40\n",
      "img record infomation path is:../DATA/REPLICATOR_PALLETS_YOLO/images\\.val_cache.json\n",
      "Val: Checking formats of labels with 8 process(es): \n",
      "\n",
      "  0%|          | 0/1000 [00:00<?, ?it/s]\n",
      "1 label(s) found, 0 label(s) missing, 0 label(s) empty, 0 invalid label files:   0%|          | 1/1000 [00:02<44:32,  2.68s/it]\n",
      "28 label(s) found, 0 label(s) missing, 0 label(s) empty, 0 invalid label files:   3%|▎         | 28/1000 [00:02<01:09, 14.03it/s]\n",
      "114 label(s) found, 0 label(s) missing, 0 label(s) empty, 0 invalid label files:  11%|█▏        | 114/1000 [00:02<00:12, 71.06it/s]\n",
      "171 label(s) found, 0 label(s) missing, 0 label(s) empty, 0 invalid label files:  17%|█▋        | 171/1000 [00:02<00:07, 114.78it/s]\n",
      "247 label(s) found, 0 label(s) missing, 0 label(s) empty, 0 invalid label files:  25%|██▍       | 247/1000 [00:03<00:04, 186.47it/s]\n",
      "328 label(s) found, 0 label(s) missing, 0 label(s) empty, 0 invalid label files:  33%|███▎      | 328/1000 [00:03<00:02, 271.79it/s]\n",
      "395 label(s) found, 0 label(s) missing, 0 label(s) empty, 0 invalid label files:  40%|███▉      | 395/1000 [00:03<00:01, 336.81it/s]\n",
      "479 label(s) found, 0 label(s) missing, 0 label(s) empty, 0 invalid label files:  48%|████▊     | 479/1000 [00:03<00:01, 427.11it/s]\n",
      "550 label(s) found, 0 label(s) missing, 0 label(s) empty, 0 invalid label files:  55%|█████▌    | 550/1000 [00:03<00:00, 451.87it/s]\n",
      "615 label(s) found, 0 label(s) missing, 0 label(s) empty, 0 invalid label files:  62%|██████▏   | 615/1000 [00:03<00:00, 483.81it/s]\n",
      "678 label(s) found, 0 label(s) missing, 0 label(s) empty, 0 invalid label files:  68%|██████▊   | 678/1000 [00:03<00:00, 480.83it/s]\n",
      "737 label(s) found, 0 label(s) missing, 0 label(s) empty, 0 invalid label files:  74%|███████▎  | 737/1000 [00:03<00:00, 485.47it/s]\n",
      "809 label(s) found, 0 label(s) missing, 0 label(s) empty, 0 invalid label files:  81%|████████  | 809/1000 [00:03<00:00, 526.15it/s]\n",
      "876 label(s) found, 0 label(s) missing, 0 label(s) empty, 0 invalid label files:  88%|████████▊ | 876/1000 [00:04<00:00, 559.18it/s]\n",
      "937 label(s) found, 0 label(s) missing, 0 label(s) empty, 0 invalid label files:  94%|█████████▎| 937/1000 [00:04<00:00, 484.85it/s]\n",
      "1000 label(s) found, 0 label(s) missing, 0 label(s) empty, 0 invalid label files: 100%|██████████| 1000/1000 [00:04<00:00, 519.47it/s]\n",
      "1000 label(s) found, 0 label(s) missing, 0 label(s) empty, 0 invalid label files: 100%|██████████| 1000/1000 [00:04<00:00, 228.80it/s]\n",
      "Convert to COCO format\n",
      "\n",
      "  0%|          | 0/1000 [00:00<?, ?it/s]\n",
      "100%|██████████| 1000/1000 [00:00<00:00, 16220.46it/s]\n",
      "Convert to COCO format finished. Resutls saved in ../DATA/REPLICATOR_PALLETS_YOLO\\annotations\\instances_val.json\n",
      "Val: Final numbers of valid images: 1000/ labels: 1000. \n",
      "5.0s for dataset initialization.\n",
      "\n",
      "Inferencing model in val datasets.:   0%|                | 0/32 [00:00<?, ?it/s]\n",
      "Inferencing model in val datasets.:   3%|▎       | 1/32 [00:02<01:07,  2.17s/it]\n",
      "Inferencing model in val datasets.:   6%|▌       | 2/32 [00:02<00:34,  1.14s/it]\n",
      "Inferencing model in val datasets.:   9%|▊       | 3/32 [00:02<00:22,  1.28it/s]\n",
      "Inferencing model in val datasets.:  12%|█       | 4/32 [00:03<00:17,  1.57it/s]\n",
      "Inferencing model in val datasets.:  16%|█▎      | 5/32 [00:03<00:15,  1.80it/s]\n",
      "Inferencing model in val datasets.:  19%|█▌      | 6/32 [00:04<00:12,  2.01it/s]\n",
      "Inferencing model in val datasets.:  22%|█▊      | 7/32 [00:04<00:12,  2.08it/s]\n",
      "Inferencing model in val datasets.:  25%|██      | 8/32 [00:04<00:10,  2.24it/s]\n",
      "Inferencing model in val datasets.:  28%|██▎     | 9/32 [00:05<00:09,  2.40it/s]\n",
      "Inferencing model in val datasets.:  31%|██▏    | 10/32 [00:05<00:09,  2.44it/s]\n",
      "Inferencing model in val datasets.:  34%|██▍    | 11/32 [00:06<00:08,  2.57it/s]\n",
      "Inferencing model in val datasets.:  38%|██▋    | 12/32 [00:06<00:07,  2.56it/s]\n",
      "Inferencing model in val datasets.:  41%|██▊    | 13/32 [00:07<00:08,  2.27it/s]\n",
      "Inferencing model in val datasets.:  44%|███    | 14/32 [00:07<00:08,  2.10it/s]\n",
      "Inferencing model in val datasets.:  47%|███▎   | 15/32 [00:08<00:08,  2.01it/s]\n",
      "Inferencing model in val datasets.:  50%|███▌   | 16/32 [00:08<00:08,  1.95it/s]\n",
      "Inferencing model in val datasets.:  53%|███▋   | 17/32 [00:09<00:07,  1.90it/s]\n",
      "Inferencing model in val datasets.:  56%|███▉   | 18/32 [00:09<00:07,  1.79it/s]\n",
      "Inferencing model in val datasets.:  59%|████▏  | 19/32 [00:10<00:07,  1.68it/s]\n",
      "Inferencing model in val datasets.:  62%|████▍  | 20/32 [00:11<00:07,  1.61it/s]\n",
      "Inferencing model in val datasets.:  66%|████▌  | 21/32 [00:11<00:06,  1.81it/s]\n",
      "Inferencing model in val datasets.:  69%|████▊  | 22/32 [00:12<00:05,  1.97it/s]\n",
      "Inferencing model in val datasets.:  72%|█████  | 23/32 [00:12<00:04,  1.97it/s]\n",
      "Inferencing model in val datasets.:  75%|█████▎ | 24/32 [00:12<00:03,  2.08it/s]\n",
      "Inferencing model in val datasets.:  78%|█████▍ | 25/32 [00:13<00:03,  2.08it/s]\n",
      "Inferencing model in val datasets.:  81%|█████▋ | 26/32 [00:13<00:02,  2.14it/s]\n",
      "Inferencing model in val datasets.:  84%|█████▉ | 27/32 [00:14<00:02,  2.21it/s]\n",
      "Inferencing model in val datasets.:  88%|██████▏| 28/32 [00:14<00:01,  2.32it/s]\n",
      "Inferencing model in val datasets.:  91%|██████▎| 29/32 [00:15<00:01,  2.43it/s]\n",
      "Inferencing model in val datasets.:  94%|██████▌| 30/32 [00:15<00:00,  2.48it/s]\n",
      "Inferencing model in val datasets.:  97%|██████▊| 31/32 [00:15<00:00,  2.47it/s]\n",
      "Inferencing model in val datasets.: 100%|███████| 32/32 [00:16<00:00,  2.83it/s]\n",
      "Inferencing model in val datasets.: 100%|███████| 32/32 [00:16<00:00,  1.99it/s]\n",
      "IOU 50 best mF1 thershold near 0.263.\n",
      "Class                 Images      Labels     P@.5iou     R@.5iou    F1@.5iou      mAP@.5  mAP@.5:.95\n",
      "all                     1000       20749       0.614       0.492       0.546       0.483       0.246\n",
      "pallets                 1000       20749       0.614       0.492       0.546       0.483       0.246\n",
      "\n",
      "Evaluating speed.\n",
      "Average pre-process time: 0.17 ms\n",
      "Average inference time: 1.56 ms\n",
      "Average NMS time: 1.26 ms\n",
      "\n",
      "Evaluating mAP by pycocotools.\n",
      "Saving runs\\val\\exp1\\predictions.json...\n",
      "Class           Labeled_images      Labels     P@.5iou     R@.5iou    F1@.5iou      mAP@.5  mAP@.5:.95\n",
      "all                     1000       20749       0.618        0.49       0.547       0.484       0.247\n",
      "C:\\Users\\Hans\\AppData\\Local\\Packages\\PythonSoftwareFoundation.Python.3.11_qbz5n2kfra8p0\\LocalCache\\local-packages\\Python311\\site-packages\\numpy\\core\\fromnumeric.py:3504: RuntimeWarning: Mean of empty slice.\n",
      "  return _methods._mean(a, axis=axis, dtype=dtype,\n",
      "C:\\Users\\Hans\\AppData\\Local\\Packages\\PythonSoftwareFoundation.Python.3.11_qbz5n2kfra8p0\\LocalCache\\local-packages\\Python311\\site-packages\\numpy\\core\\_methods.py:129: RuntimeWarning: invalid value encountered in scalar divide\n",
      "  ret = ret.dtype.type(ret / rcount)\n",
      "none0                      0           0          -1        0.99         198         nan         nan\n",
      "none1                      0           0          -1        0.99         198         nan         nan\n",
      "small load carriers           0           0          -1        0.99         198         nan         nan\n",
      "none3                      0           0          -1        0.99         198         nan         nan\n",
      "forklfits                  0           0          -1        0.99         198         nan         nan\n",
      "none5                      0           0          -1        0.99         198         nan         nan\n",
      "pallets                 1000       20749       0.618        0.49       0.547       0.484       0.247\n",
      "none7                      0           0          -1        0.99         198         nan         nan\n",
      "none8                      0           0          -1        0.99         198         nan         nan\n",
      "stillages                  0           0          -1        0.99         198         nan         nan\n",
      "pallet trucks              0           0          -1        0.99         198         nan         nan\n",
      "Results saved to runs\\val\\exp1\n"
     ]
    },
    {
     "name": "stdout",
     "output_type": "stream",
     "text": [
      "\n",
      "Done (t=0.05s)\n",
      "creating index...\n",
      "index created!\n",
      "Loading and preparing results...\n",
      "DONE (t=0.59s)\n",
      "creating index...\n",
      "index created!\n",
      "Running per image evaluation...\n",
      "Evaluate annotation type *bbox*\n",
      "DONE (t=13.61s).\n",
      "Accumulating evaluation results...\n",
      "DONE (t=0.38s).\n",
      " Average Precision  (AP) @[ IoU=0.50:0.95 | area=   all | maxDets=100 ] = 0.247\n",
      " Average Precision  (AP) @[ IoU=0.50      | area=   all | maxDets=100 ] = 0.484\n",
      " Average Precision  (AP) @[ IoU=0.75      | area=   all | maxDets=100 ] = 0.228\n",
      " Average Precision  (AP) @[ IoU=0.50:0.95 | area= small | maxDets=100 ] = 0.117\n",
      " Average Precision  (AP) @[ IoU=0.50:0.95 | area=medium | maxDets=100 ] = 0.335\n",
      " Average Precision  (AP) @[ IoU=0.50:0.95 | area= large | maxDets=100 ] = 0.513\n",
      " Average Recall     (AR) @[ IoU=0.50:0.95 | area=   all | maxDets=  1 ] = 0.033\n",
      " Average Recall     (AR) @[ IoU=0.50:0.95 | area=   all | maxDets= 10 ] = 0.224\n",
      " Average Recall     (AR) @[ IoU=0.50:0.95 | area=   all | maxDets=100 ] = 0.393\n",
      " Average Recall     (AR) @[ IoU=0.50:0.95 | area= small | maxDets=100 ] = 0.196\n",
      " Average Recall     (AR) @[ IoU=0.50:0.95 | area=medium | maxDets=100 ] = 0.533\n",
      " Average Recall     (AR) @[ IoU=0.50:0.95 | area= large | maxDets=100 ] = 0.753\n"
     ]
    }
   ],
   "source": [
    "!python3 tools/eval.py --data data/synthpalette.yaml \\\n",
    "    --weights runs/train/yolo6n6_1280_palette_b32/weights/best_ckpt.pt \\\n",
    "    --task val --device 0 --img-size 640 --verbose \\\n",
    "    --do_pr_metric True --plot_confusion_matrix"
   ]
  },
  {
   "cell_type": "code",
   "execution_count": null,
   "id": "49120787",
   "metadata": {},
   "outputs": [],
   "source": [
    "!python3 tools/eval.py --data data/synthpalette-val_loco.yaml \\\n",
    "    --weights runs/train/yolo6n6_1280_palette_b32/weights/best_ckpt.pt \\\n",
    "    --task val --device 0 --img-size 640 --verbose \\\n",
    "    --do_pr_metric True --plot_confusion_matrix"
   ]
  },
  {
   "cell_type": "code",
   "execution_count": null,
   "id": "fc0c1a92-e578-4ecc-9d18-df169f23c910",
   "metadata": {
    "scrolled": true
   },
   "outputs": [],
   "source": [
    "runletters = [\"l\"]\n",
    "\n",
    "\n",
    "runs = [f\"yolo6{letter}_640_palette\" for letter in runletters]\n",
    "\n",
    "for run in runs:\n",
    "    print(\"####################################################\")\n",
    "    print(\"####################################################\")\n",
    "    print(f\"##########--___  {run}  ___--##########\")\n",
    "    print(\"####################################################\")\n",
    "    print(\"####################################################\")\n",
    "    weightspath = f\"runs/train/{run}/weights/best_ckpt.pt\"\n",
    "    print(weightspath)\n",
    "    !python3 tools/eval.py --data data/loco.yaml --weights {weightspath} --task val --device 0 --img-size 640"
   ]
  },
  {
   "cell_type": "code",
   "execution_count": null,
   "id": "91c9f112-b765-4210-911f-c4054bbad41c",
   "metadata": {},
   "outputs": [],
   "source": [
    "!python3 tools/eval.py --data data/loco.yaml --weights runs/train/yolo6m6_1280_palette_b81/weights/best_ckpt.pt --task val --device 0 --img-size 1280"
   ]
  },
  {
   "cell_type": "code",
   "execution_count": 4,
   "id": "c92d1596-0330-4297-a6b6-beac6d545aa0",
   "metadata": {},
   "outputs": [
    {
     "name": "stdout",
     "output_type": "stream",
     "text": [
      "[0.03, 0.04, 0.05]\n"
     ]
    }
   ],
   "source": [
    "import numpy as np\n",
    "variables = [np.round(x, 2) for x in np.arange(0.03, 0.06, 0.01)]\n",
    "\n",
    "print(variables)"
   ]
  },
  {
   "cell_type": "code",
   "execution_count": null,
   "id": "08017963-909b-4828-ac9e-bb01a443c943",
   "metadata": {},
   "outputs": [],
   "source": [
    "for x in variables:\n",
    "    print(\"####################################################\")\n",
    "    print(\"####################################################\")\n",
    "    print(f\"##########--___  {x}  ___--##########\")\n",
    "    print(\"####################################################\")\n",
    "    print(\"####################################################\")\n",
    "    !python3 tools/eval.py --data data/loco.yaml \\\n",
    "        --weights runs/train/yolo6m6_1280_palette_b81/weights/best_ckpt.pt \\\n",
    "        --task val --device 0 --img-size 1280 --iou-thres=0.5 --verbose --do_pr_metric True \\\n",
    "        --conf-thres={x}"
   ]
  },
  {
   "cell_type": "code",
   "execution_count": null,
   "id": "beea69e4-483a-4d2f-8b76-8d91538b54bc",
   "metadata": {},
   "outputs": [],
   "source": [
    " --plot_curve --plot_confusion_matrix"
   ]
  },
  {
   "cell_type": "code",
   "execution_count": 2,
   "id": "7c21e155-7fd8-4c66-8e2b-f7ff146c9531",
   "metadata": {},
   "outputs": [
    {
     "name": "stdout",
     "output_type": "stream",
     "text": [
      "loading annotations into memory...\n",
      "Done (t=0.01s)\n",
      "creating index...\n",
      "index created!\n",
      "Loading and preparing results...\n",
      "DONE (t=2.57s)\n",
      "creating index...\n",
      "index created!\n",
      "Running per image evaluation...\n",
      "Evaluate annotation type *bbox*\n",
      "DONE (t=2.56s).\n",
      "Accumulating evaluation results...\n",
      "DONE (t=0.80s).\n",
      " Average Precision  (AP) @[ IoU=0.50:0.95 | area=   all | maxDets=100 ] = -1.000\n",
      " Average Precision  (AP) @[ IoU=0.50      | area=   all | maxDets=100 ] = -1.000\n",
      " Average Precision  (AP) @[ IoU=0.75      | area=   all | maxDets=100 ] = -1.000\n",
      " Average Precision  (AP) @[ IoU=0.50:0.95 | area= small | maxDets=100 ] = -1.000\n",
      " Average Precision  (AP) @[ IoU=0.50:0.95 | area=medium | maxDets=100 ] = -1.000\n",
      " Average Precision  (AP) @[ IoU=0.50:0.95 | area= large | maxDets=100 ] = -1.000\n",
      " Average Recall     (AR) @[ IoU=0.50:0.95 | area=   all | maxDets=  1 ] = -1.000\n",
      " Average Recall     (AR) @[ IoU=0.50:0.95 | area=   all | maxDets= 10 ] = -1.000\n",
      " Average Recall     (AR) @[ IoU=0.50:0.95 | area=   all | maxDets=100 ] = -1.000\n",
      " Average Recall     (AR) @[ IoU=0.50:0.95 | area= small | maxDets=100 ] = -1.000\n",
      " Average Recall     (AR) @[ IoU=0.50:0.95 | area=medium | maxDets=100 ] = -1.000\n",
      " Average Recall     (AR) @[ IoU=0.50:0.95 | area= large | maxDets=100 ] = -1.000\n"
     ]
    },
    {
     "name": "stderr",
     "output_type": "stream",
     "text": [
      "Namespace(data='data/loco.yaml', weights='D:/code/MODELS/yolo6m6_1280_palette_b8/weights/best_ckpt.pt', batch_size=32, img_size=1280, conf_thres=0.03, iou_thres=0.5, task='val', device='0', half=False, save_dir='runs/val/', name='exp', shrink_size=0, infer_on_rect=True, reproduce_640_eval=False, eval_config_file='./configs/experiment/eval_640_repro.py', do_coco_metric=True, do_pr_metric=True, plot_curve=True, plot_confusion_matrix=True, verbose=True, config_file='', specific_shape=False, height=None, width=None)\n",
      "The best iou_thresh when evaluate the model is 0.65, while you set it to: 0.5\n",
      "Loading checkpoint from D:/code/MODELS/yolo6m6_1280_palette_b8/weights/best_ckpt.pt\n",
      "\n",
      "Fusing model...\n",
      "Switch model to deploy modality.\n",
      "Model Summary: Params: 79.54M, Gflops: 378.89\n",
      "img record infomation path is:../DATA/LOCO_YOLOv6_BBOX/images\\.val_cache.json\n",
      "Val: Checking formats of labels with 8 process(es): \n",
      "\n",
      "  0%|          | 0/2277 [00:00<?, ?it/s]\n",
      "0 label(s) found, 1 label(s) missing, 0 label(s) empty, 0 invalid label files:   0%|          | 1/2277 [00:02<1:35:57,  2.53s/it]\n",
      "0 label(s) found, 1338 label(s) missing, 0 label(s) empty, 0 invalid label files:  59%|#####8    | 1338/2277 [00:02<00:01, 715.02it/s]\n",
      "0 label(s) found, 2277 label(s) missing, 0 label(s) empty, 0 invalid label files: 100%|##########| 2277/2277 [00:02<00:00, 850.53it/s]\n",
      "WARNING: No labels found in ../DATA/LOCO_YOLOv6_BBOX/images/val. \n",
      "Convert to COCO format\n",
      "\n",
      "  0%|          | 0/2277 [00:00<?, ?it/s]\n",
      "100%|##########| 2277/2277 [00:00<00:00, 267676.51it/s]\n",
      "Convert to COCO format finished. Resutls saved in ../DATA/LOCO_YOLOv6_BBOX\\annotations\\instances_val.json\n",
      "Val: Final numbers of valid images: 2277/ labels: 2277. \n",
      "3.3s for dataset initialization.\n",
      "\n",
      "Inferencing model in val datasets.:   0%|                | 0/72 [00:00<?, ?it/s]\n",
      "Inferencing model in val datasets.:   1%|1       | 1/72 [00:03<04:38,  3.93s/it]\n",
      "Inferencing model in val datasets.:   3%|2       | 2/72 [00:04<02:27,  2.10s/it]\n",
      "Inferencing model in val datasets.:   4%|3       | 3/72 [00:05<01:47,  1.56s/it]\n",
      "Inferencing model in val datasets.:   6%|4       | 4/72 [00:06<01:27,  1.29s/it]\n",
      "Inferencing model in val datasets.:   7%|5       | 5/72 [00:07<01:14,  1.11s/it]\n",
      "Inferencing model in val datasets.:   8%|6       | 6/72 [00:08<01:05,  1.01it/s]\n",
      "Inferencing model in val datasets.:  10%|7       | 7/72 [00:08<01:00,  1.07it/s]\n",
      "Inferencing model in val datasets.:  11%|8       | 8/72 [00:09<00:58,  1.09it/s]\n",
      "Inferencing model in val datasets.:  12%|#       | 9/72 [00:10<00:56,  1.12it/s]\n",
      "Inferencing model in val datasets.:  14%|9      | 10/72 [00:11<00:52,  1.19it/s]\n",
      "Inferencing model in val datasets.:  15%|#      | 11/72 [00:12<00:50,  1.21it/s]\n",
      "Inferencing model in val datasets.:  17%|#1     | 12/72 [00:13<00:50,  1.20it/s]\n",
      "Inferencing model in val datasets.:  18%|#2     | 13/72 [00:13<00:50,  1.18it/s]\n",
      "Inferencing model in val datasets.:  19%|#3     | 14/72 [00:14<00:51,  1.13it/s]\n",
      "Inferencing model in val datasets.:  21%|#4     | 15/72 [00:15<00:51,  1.10it/s]\n",
      "Inferencing model in val datasets.:  22%|#5     | 16/72 [00:16<00:49,  1.13it/s]\n",
      "Inferencing model in val datasets.:  24%|#6     | 17/72 [00:17<00:48,  1.14it/s]\n",
      "Inferencing model in val datasets.:  25%|#7     | 18/72 [00:18<00:46,  1.16it/s]\n",
      "Inferencing model in val datasets.:  26%|#8     | 19/72 [00:19<00:45,  1.17it/s]\n",
      "Inferencing model in val datasets.:  28%|#9     | 20/72 [00:20<00:46,  1.11it/s]\n",
      "Inferencing model in val datasets.:  29%|##     | 21/72 [00:21<00:45,  1.11it/s]\n",
      "Inferencing model in val datasets.:  31%|##1    | 22/72 [00:21<00:45,  1.11it/s]\n",
      "Inferencing model in val datasets.:  32%|##2    | 23/72 [00:22<00:44,  1.11it/s]\n",
      "Inferencing model in val datasets.:  33%|##3    | 24/72 [00:23<00:42,  1.13it/s]\n",
      "Inferencing model in val datasets.:  35%|##4    | 25/72 [00:24<00:40,  1.15it/s]\n",
      "Inferencing model in val datasets.:  36%|##5    | 26/72 [00:25<00:39,  1.16it/s]\n",
      "Inferencing model in val datasets.:  38%|##6    | 27/72 [00:26<00:38,  1.17it/s]\n",
      "Inferencing model in val datasets.:  39%|##7    | 28/72 [00:27<00:37,  1.17it/s]\n",
      "Inferencing model in val datasets.:  40%|##8    | 29/72 [00:28<00:37,  1.13it/s]\n",
      "Inferencing model in val datasets.:  42%|##9    | 30/72 [00:28<00:37,  1.12it/s]\n",
      "Inferencing model in val datasets.:  43%|###    | 31/72 [00:29<00:36,  1.12it/s]\n",
      "Inferencing model in val datasets.:  44%|###1   | 32/72 [00:30<00:36,  1.09it/s]\n",
      "Inferencing model in val datasets.:  46%|###2   | 33/72 [00:31<00:35,  1.09it/s]\n",
      "Inferencing model in val datasets.:  47%|###3   | 34/72 [00:32<00:34,  1.11it/s]\n",
      "Inferencing model in val datasets.:  49%|###4   | 35/72 [00:33<00:33,  1.12it/s]\n",
      "Inferencing model in val datasets.:  50%|###5   | 36/72 [00:34<00:31,  1.15it/s]\n",
      "Inferencing model in val datasets.:  51%|###5   | 37/72 [00:35<00:29,  1.18it/s]\n",
      "Inferencing model in val datasets.:  53%|###6   | 38/72 [00:35<00:28,  1.18it/s]\n",
      "Inferencing model in val datasets.:  54%|###7   | 39/72 [00:36<00:29,  1.14it/s]\n",
      "Inferencing model in val datasets.:  56%|###8   | 40/72 [00:37<00:28,  1.12it/s]\n",
      "Inferencing model in val datasets.:  57%|###9   | 41/72 [00:38<00:27,  1.13it/s]\n",
      "Inferencing model in val datasets.:  58%|####   | 42/72 [00:39<00:26,  1.13it/s]\n",
      "Inferencing model in val datasets.:  60%|####1  | 43/72 [00:40<00:25,  1.12it/s]\n",
      "Inferencing model in val datasets.:  61%|####2  | 44/72 [00:41<00:25,  1.09it/s]\n",
      "Inferencing model in val datasets.:  62%|####3  | 45/72 [00:42<00:24,  1.10it/s]\n",
      "Inferencing model in val datasets.:  64%|####4  | 46/72 [00:43<00:23,  1.10it/s]\n",
      "Inferencing model in val datasets.:  65%|####5  | 47/72 [00:44<00:22,  1.12it/s]\n",
      "Inferencing model in val datasets.:  67%|####6  | 48/72 [00:45<00:22,  1.08it/s]\n",
      "Inferencing model in val datasets.:  68%|####7  | 49/72 [00:46<00:21,  1.08it/s]\n",
      "Inferencing model in val datasets.:  69%|####8  | 50/72 [00:47<00:20,  1.07it/s]\n",
      "Inferencing model in val datasets.:  71%|####9  | 51/72 [00:47<00:19,  1.07it/s]\n",
      "Inferencing model in val datasets.:  72%|#####  | 52/72 [00:48<00:17,  1.11it/s]\n",
      "Inferencing model in val datasets.:  74%|#####1 | 53/72 [00:49<00:17,  1.11it/s]\n",
      "Inferencing model in val datasets.:  75%|#####2 | 54/72 [00:50<00:16,  1.08it/s]\n",
      "Inferencing model in val datasets.:  76%|#####3 | 55/72 [00:51<00:15,  1.10it/s]\n",
      "Inferencing model in val datasets.:  78%|#####4 | 56/72 [00:52<00:14,  1.14it/s]\n",
      "Inferencing model in val datasets.:  79%|#####5 | 57/72 [00:53<00:13,  1.13it/s]\n",
      "Inferencing model in val datasets.:  81%|#####6 | 58/72 [00:54<00:12,  1.16it/s]\n",
      "Inferencing model in val datasets.:  82%|#####7 | 59/72 [00:54<00:10,  1.19it/s]\n",
      "Inferencing model in val datasets.:  83%|#####8 | 60/72 [00:55<00:10,  1.16it/s]\n",
      "Inferencing model in val datasets.:  85%|#####9 | 61/72 [00:56<00:09,  1.17it/s]\n",
      "Inferencing model in val datasets.:  86%|###### | 62/72 [00:57<00:08,  1.18it/s]\n",
      "Inferencing model in val datasets.:  88%|######1| 63/72 [00:58<00:07,  1.14it/s]\n",
      "Inferencing model in val datasets.:  89%|######2| 64/72 [00:59<00:07,  1.10it/s]\n",
      "Inferencing model in val datasets.:  90%|######3| 65/72 [01:00<00:06,  1.12it/s]\n",
      "Inferencing model in val datasets.:  92%|######4| 66/72 [01:01<00:05,  1.14it/s]\n",
      "Inferencing model in val datasets.:  93%|######5| 67/72 [01:02<00:04,  1.11it/s]\n",
      "Inferencing model in val datasets.:  94%|######6| 68/72 [01:02<00:03,  1.09it/s]\n",
      "Inferencing model in val datasets.:  96%|######7| 69/72 [01:03<00:02,  1.10it/s]\n",
      "Inferencing model in val datasets.:  97%|######8| 70/72 [01:04<00:01,  1.12it/s]\n",
      "Inferencing model in val datasets.:  99%|######9| 71/72 [01:05<00:00,  1.13it/s]\n",
      "Inferencing model in val datasets.: 100%|#######| 72/72 [01:05<00:00,  1.41it/s]\n",
      "Inferencing model in val datasets.: 100%|#######| 72/72 [01:05<00:00,  1.09it/s]\n",
      "Calculate metric failed, might check dataset.\n",
      "\n",
      "Evaluating speed.\n",
      "Average pre-process time: 0.29 ms\n",
      "Average inference time: 9.32 ms\n",
      "Average NMS time: 3.27 ms\n",
      "\n",
      "Evaluating mAP by pycocotools.\n",
      "Saving runs\\val\\exp1\\predictions.json...\n",
      "Class           Labeled_images      Labels     P@.5iou     R@.5iou    F1@.5iou      mAP@.5  mAP@.5:.95\n",
      "C:\\Users\\Hans\\AppData\\Local\\Packages\\PythonSoftwareFoundation.Python.3.11_qbz5n2kfra8p0\\LocalCache\\local-packages\\Python311\\site-packages\\numpy\\core\\fromnumeric.py:3504: RuntimeWarning: Mean of empty slice.\n",
      "  return _methods._mean(a, axis=axis, dtype=dtype,\n",
      "C:\\Users\\Hans\\AppData\\Local\\Packages\\PythonSoftwareFoundation.Python.3.11_qbz5n2kfra8p0\\LocalCache\\local-packages\\Python311\\site-packages\\numpy\\core\\_methods.py:129: RuntimeWarning: invalid value encountered in scalar divide\n",
      "  ret = ret.dtype.type(ret / rcount)\n",
      "all                        0           0         nan           0         nan         nan         nan\n",
      "none0                      0           0          -1        0.99         198         nan         nan\n",
      "none1                      0           0          -1        0.99         198         nan         nan\n",
      "small load carriers           0           0          -1        0.99         198         nan         nan\n",
      "none3                      0           0          -1        0.99         198         nan         nan\n",
      "forklfits                  0           0          -1        0.99         198         nan         nan\n",
      "none5                      0           0          -1        0.99         198         nan         nan\n",
      "pallets                    0           0          -1        0.99         198         nan         nan\n",
      "none7                      0           0          -1        0.99         198         nan         nan\n",
      "none8                      0           0          -1        0.99         198         nan         nan\n",
      "stillages                  0           0          -1        0.99         198         nan         nan\n",
      "pallet trucks              0           0          -1        0.99         198         nan         nan\n",
      "Results saved to runs\\val\\exp1\n"
     ]
    }
   ],
   "source": [
    "!python3 tools/eval.py --data data/loco.yaml \\\n",
    "    --weights D:/code/MODELS/yolo6m6_1280_palette_b8/weights/best_ckpt.pt \\\n",
    "    --task val --device 0 --img-size 1280 --iou-thres=0.5 --verbose --conf-thres=0.03 \\\n",
    "    --do_pr_metric True --plot_confusion_matrix"
   ]
  },
  {
   "cell_type": "code",
   "execution_count": null,
   "id": "c3edbf16-dd13-4e8e-b3b6-cbbd120e4136",
   "metadata": {},
   "outputs": [],
   "source": [
    "!python3 tools/eval.py --data data/loco.yaml --weights D:/code/MODELS/yolo6m6_1280_palette_b8/weights/best_ckpt.pt --task val --device 0 --img-size 1280 --iou-thres=0.5 --verbose --conf-thres=0.03"
   ]
  }
 ],
 "metadata": {
  "kernelspec": {
   "display_name": "Python 3 (ipykernel)",
   "language": "python",
   "name": "python3"
  },
  "language_info": {
   "codemirror_mode": {
    "name": "ipython",
    "version": 3
   },
   "file_extension": ".py",
   "mimetype": "text/x-python",
   "name": "python",
   "nbconvert_exporter": "python",
   "pygments_lexer": "ipython3",
   "version": "3.11.6"
  }
 },
 "nbformat": 4,
 "nbformat_minor": 5
}
