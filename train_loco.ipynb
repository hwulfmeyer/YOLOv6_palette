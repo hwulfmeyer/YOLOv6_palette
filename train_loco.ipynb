{
 "cells": [
  {
   "cell_type": "code",
   "execution_count": null,
   "id": "cbaf6366-2f7e-46bb-84b6-ab3abc732239",
   "metadata": {
    "scrolled": true
   },
   "outputs": [],
   "source": [
    "!python3 tools/train.py --batch 8 --eval-interval 5 --conf configs/yolov6n6_finetune.py --data data/loco.yaml --device 0 --epochs 100 --img-size 1280 --name yolo6n6_1280_palette_b8"
   ]
  },
  {
   "cell_type": "code",
   "execution_count": null,
   "id": "828f7359-9e14-44c2-ba2a-12b743d74fb6",
   "metadata": {
    "scrolled": true
   },
   "outputs": [],
   "source": [
    "!python3 tools/train.py --batch 8 --eval-interval 5 --conf configs/yolov6s6_finetune.py --data data/loco.yaml --device 0 --epochs 100 --img-size 1280 --name yolo6s6_1280_palette_b8"
   ]
  },
  {
   "cell_type": "code",
   "execution_count": null,
   "id": "dd2f2483-23c9-4422-9f5a-abbdf0c1eeed",
   "metadata": {
    "scrolled": true
   },
   "outputs": [],
   "source": [
    "!python3 tools/train.py --batch 8 --eval-interval 5 --conf configs/yolov6m6_finetune.py --data data/loco.yaml --device 0 --epochs 100 --img-size 1280 --name yolo6m6_1280_palette_b8"
   ]
  },
  {
   "cell_type": "code",
   "execution_count": null,
   "id": "5928805f-0de5-49e2-887c-db51677e8d46",
   "metadata": {
    "scrolled": true
   },
   "outputs": [],
   "source": [
    "!python3 tools/train.py --batch 8 --eval-interval 5 --conf configs/yolov6l6_finetune.py --data data/loco.yaml --device 0 --epochs 100 --img-size 1280 --name yolo6l6_1280_palette_b8"
   ]
  },
  {
   "cell_type": "code",
   "execution_count": 8,
   "id": "8c95aba5-8905-4416-8480-cd483ce58a20",
   "metadata": {},
   "outputs": [
    {
     "name": "stdout",
     "output_type": "stream",
     "text": [
      "Namespace(batch_size=32, conf_thres=0.03, config_file='', data='data/loco.yaml', device='0', do_coco_metric=True, do_pr_metric=True, eval_config_file='./configs/experiment/eval_640_repro.py', half=False, height=None, img_size=1280, infer_on_rect=True, iou_thres=0.5, name='exp', plot_confusion_matrix=True, plot_curve=True, reproduce_640_eval=False, save_dir='runs/val/', shrink_size=0, specific_shape=False, task='val', verbose=True, weights='runs/train/yolo6m6_1280_palette_b81/weights/best_ckpt.pt', width=None)\n",
      "The best iou_thresh when evaluate the model is 0.65, while you set it to: 0.5\n",
      "Loading checkpoint from runs/train/yolo6m6_1280_palette_b81/weights/best_ckpt.pt\n",
      "\n",
      "Fusing model...\n",
      "Switch model to deploy modality.\n",
      "Model Summary: Params: 79.54M, Gflops: 378.89\n",
      "img record infomation path is:../LOCO_YOLOv6_BBOX/images/.val_cache.json\n",
      "Val: Checking formats of labels with 8 process(es): \n",
      "2277 label(s) found, 0 label(s) missing, 0 label(s) empty, 0 invalid label files\n",
      "Convert to COCO format\n",
      "100%|████████████████████████████████████| 2277/2277 [00:00<00:00, 16683.46it/s]\n",
      "Convert to COCO format finished. Resutls saved in ../LOCO_YOLOv6_BBOX/annotations/instances_val.json\n",
      "Val: Final numbers of valid images: 2277/ labels: 2277. \n",
      "1.1s for dataset initialization.\n",
      "Inferencing model in val datasets.: 100%|███████| 72/72 [00:46<00:00,  1.54it/s]\n",
      "IOU 50 best mF1 thershold near 0.364.\n",
      "Class                 Images      Labels     P@.5iou     R@.5iou    F1@.5iou      mAP@.5  mAP@.5:.95\n",
      "all                     2277       64492       0.583       0.528       0.509       0.513       0.242\n",
      "small load carriers        2277        8911       0.708       0.441       0.543       0.509        0.21\n",
      "forklfits               2277         124       0.124       0.597       0.205       0.273       0.132\n",
      "pallets                 2277       52297        0.74       0.662       0.699       0.718       0.305\n",
      "stillages               2277        2007       0.716       0.561       0.629       0.617       0.378\n",
      "pallet trucks           2277        1153       0.626       0.377       0.471       0.448       0.187\n",
      "\n",
      "Evaluating speed.\n",
      "Average pre-process time: 0.21 ms\n",
      "Average inference time: 10.85 ms\n",
      "Average NMS time: 1.15 ms\n",
      "\n",
      "Evaluating mAP by pycocotools.\n",
      "Saving runs/val/exp69/predictions.json...\n",
      "loading annotations into memory...\n",
      "Done (t=0.25s)\n",
      "creating index...\n",
      "index created!\n",
      "Loading and preparing results...\n",
      "DONE (t=1.87s)\n",
      "creating index...\n",
      "index created!\n",
      "Running per image evaluation...\n",
      "Evaluate annotation type *bbox*\n",
      "DONE (t=33.28s).\n",
      "Accumulating evaluation results...\n",
      "DONE (t=1.68s).\n",
      "Class           Labeled_images      Labels     P@.5iou     R@.5iou    F1@.5iou      mAP@.5  mAP@.5:.95\n",
      "all                     2277       64492       0.562        0.52        0.54       0.498       0.239\n",
      "/home/hans/.local/lib/python3.8/site-packages/numpy/core/fromnumeric.py:3464: RuntimeWarning: Mean of empty slice.\n",
      "  return _methods._mean(a, axis=axis, dtype=dtype,\n",
      "/home/hans/.local/lib/python3.8/site-packages/numpy/core/_methods.py:192: RuntimeWarning: invalid value encountered in scalar divide\n",
      "  ret = ret.dtype.type(ret / rcount)\n",
      "none0                      0           0          -1        0.99         198         nan         nan\n",
      "none1                      0           0          -1        0.99         198         nan         nan\n",
      "small load carriers         438        8911       0.644        0.48        0.55       0.505       0.211\n",
      "none3                      0           0          -1        0.99         198         nan         nan\n",
      "forklfits                101         124       0.351        0.41       0.378       0.261       0.127\n",
      "none5                      0           0          -1        0.99         198         nan         nan\n",
      "pallets                 2181       52297       0.746        0.62       0.677       0.662       0.288\n",
      "none7                      0           0          -1        0.99         198         nan         nan\n",
      "none8                      0           0          -1        0.99         198         nan         nan\n",
      "stillages                539        2007       0.717        0.56       0.629       0.616       0.379\n",
      "pallet trucks            706        1153       0.525        0.45       0.485       0.448       0.189\n",
      " Average Precision  (AP) @[ IoU=0.50:0.95 | area=   all | maxDets=100 ] = 0.239\n",
      " Average Precision  (AP) @[ IoU=0.50      | area=   all | maxDets=100 ] = 0.498\n",
      " Average Precision  (AP) @[ IoU=0.75      | area=   all | maxDets=100 ] = 0.199\n",
      " Average Precision  (AP) @[ IoU=0.50:0.95 | area= small | maxDets=100 ] = 0.089\n",
      " Average Precision  (AP) @[ IoU=0.50:0.95 | area=medium | maxDets=100 ] = 0.199\n",
      " Average Precision  (AP) @[ IoU=0.50:0.95 | area= large | maxDets=100 ] = 0.322\n",
      " Average Recall     (AR) @[ IoU=0.50:0.95 | area=   all | maxDets=  1 ] = 0.140\n",
      " Average Recall     (AR) @[ IoU=0.50:0.95 | area=   all | maxDets= 10 ] = 0.322\n",
      " Average Recall     (AR) @[ IoU=0.50:0.95 | area=   all | maxDets=100 ] = 0.432\n",
      " Average Recall     (AR) @[ IoU=0.50:0.95 | area= small | maxDets=100 ] = 0.256\n",
      " Average Recall     (AR) @[ IoU=0.50:0.95 | area=medium | maxDets=100 ] = 0.380\n",
      " Average Recall     (AR) @[ IoU=0.50:0.95 | area= large | maxDets=100 ] = 0.525\n",
      "Results saved to runs/val/exp69\n"
     ]
    }
   ],
   "source": [
    "!python3 tools/eval.py --data data/loco.yaml \\\n",
    "    --weights runs/train/yolo6m6_1280_palette_b81/weights/best_ckpt.pt \\\n",
    "    --task val --device 0 --img-size 1280 --iou-thres=0.5 --verbose --conf-thres=0.03 \\\n",
    "    --do_pr_metric True --plot_confusion_matrix"
   ]
  },
  {
   "cell_type": "code",
   "execution_count": null,
   "id": "fc0c1a92-e578-4ecc-9d18-df169f23c910",
   "metadata": {
    "scrolled": true
   },
   "outputs": [],
   "source": [
    "runletters = [\"l\"]\n",
    "\n",
    "\n",
    "runs = [f\"yolo6{letter}_640_palette\" for letter in runletters]\n",
    "\n",
    "for run in runs:\n",
    "    print(\"####################################################\")\n",
    "    print(\"####################################################\")\n",
    "    print(f\"##########--___  {run}  ___--##########\")\n",
    "    print(\"####################################################\")\n",
    "    print(\"####################################################\")\n",
    "    weightspath = f\"runs/train/{run}/weights/best_ckpt.pt\"\n",
    "    print(weightspath)\n",
    "    !python3 tools/eval.py --data data/loco.yaml --weights {weightspath} --task val --device 0 --img-size 640"
   ]
  },
  {
   "cell_type": "code",
   "execution_count": null,
   "id": "91c9f112-b765-4210-911f-c4054bbad41c",
   "metadata": {},
   "outputs": [],
   "source": [
    "!python3 tools/eval.py --data data/loco.yaml --weights runs/train/yolo6m6_1280_palette_b81/weights/best_ckpt.pt --task val --device 0 --img-size 1280"
   ]
  },
  {
   "cell_type": "code",
   "execution_count": 4,
   "id": "c92d1596-0330-4297-a6b6-beac6d545aa0",
   "metadata": {},
   "outputs": [
    {
     "name": "stdout",
     "output_type": "stream",
     "text": [
      "[0.03, 0.04, 0.05]\n"
     ]
    }
   ],
   "source": [
    "import numpy as np\n",
    "variables = [np.round(x, 2) for x in np.arange(0.03, 0.06, 0.01)]\n",
    "\n",
    "print(variables)"
   ]
  },
  {
   "cell_type": "code",
   "execution_count": null,
   "id": "08017963-909b-4828-ac9e-bb01a443c943",
   "metadata": {},
   "outputs": [],
   "source": [
    "for x in variables:\n",
    "    print(\"####################################################\")\n",
    "    print(\"####################################################\")\n",
    "    print(f\"##########--___  {x}  ___--##########\")\n",
    "    print(\"####################################################\")\n",
    "    print(\"####################################################\")\n",
    "    !python3 tools/eval.py --data data/loco.yaml \\\n",
    "        --weights runs/train/yolo6m6_1280_palette_b81/weights/best_ckpt.pt \\\n",
    "        --task val --device 0 --img-size 1280 --iou-thres=0.5 --verbose --do_pr_metric True \\\n",
    "        --conf-thres={x}"
   ]
  },
  {
   "cell_type": "code",
   "execution_count": null,
   "id": "beea69e4-483a-4d2f-8b76-8d91538b54bc",
   "metadata": {},
   "outputs": [],
   "source": [
    " --plot_curve --plot_confusion_matrix"
   ]
  }
 ],
 "metadata": {
  "kernelspec": {
   "display_name": "Python 3 (ipykernel)",
   "language": "python",
   "name": "python3"
  },
  "language_info": {
   "codemirror_mode": {
    "name": "ipython",
    "version": 3
   },
   "file_extension": ".py",
   "mimetype": "text/x-python",
   "name": "python",
   "nbconvert_exporter": "python",
   "pygments_lexer": "ipython3",
   "version": "3.8.10"
  }
 },
 "nbformat": 4,
 "nbformat_minor": 5
}
